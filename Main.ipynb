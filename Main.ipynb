{
 "cells": [
  {
   "cell_type": "code",
   "execution_count": 1,
   "metadata": {},
   "outputs": [],
   "source": [
    "import numpy as np\n",
    "import matplotlib.pyplot as plt\n",
    "import os\n",
    "import math\n",
    "import shutil\n",
    "import glob\n",
    "import keras\n",
    "import tensorflow as tf\n",
    "from keras.layers import Conv2D, MaxPool2D, Dropout, Flatten, Dense, BatchNormalization, GlobalAvgPool2D\n",
    "from keras.models import Sequential\n",
    "from keras.preprocessing.image import ImageDataGenerator\n"
   ]
  },
  {
   "attachments": {},
   "cell_type": "markdown",
   "metadata": {},
   "source": [
    "CNN Model"
   ]
  },
  {
   "cell_type": "code",
   "execution_count": 2,
   "metadata": {},
   "outputs": [],
   "source": [
    "# CNN Model\n",
    "model = Sequential()\n",
    "\n",
    "model.add(Conv2D(filters= 16 , kernel_size= (3,3), activation= 'relu'))\n",
    "\n",
    "model.add(Conv2D(filters= 36 , kernel_size= (3,3), activation= 'relu'))\n",
    "model.add(MaxPool2D(pool_size=(2,2)))\n",
    "\n",
    "model.add(Conv2D(filters= 64 , kernel_size= (3,3), activation= 'relu'))\n",
    "model.add(MaxPool2D(pool_size=(2,2)))\n",
    "\n",
    "model.add(Conv2D(filters= 128 , kernel_size= (3,3), activation= 'relu'))\n",
    "model.add(MaxPool2D(pool_size=(2,2)))\n",
    "\n",
    "model.add(Dropout(rate= 0.25))\n",
    "\n",
    "model.add(Flatten())\n",
    "model.add(Dense(units=64,activation= 'relu'))\n",
    "model.add(Dropout(rate= 0.25))\n",
    "model.add(Dense(units= 1, activation= 'sigmoid'))\n",
    "\n",
    "\n",
    "# model.summary()\n"
   ]
  },
  {
   "cell_type": "code",
   "execution_count": 3,
   "metadata": {},
   "outputs": [],
   "source": [
    "model.compile(optimizer='adam', loss= keras.losses.binary_crossentropy, metrics=['accuracy']) "
   ]
  },
  {
   "attachments": {},
   "cell_type": "markdown",
   "metadata": {},
   "source": [
    "Preparing our Data using Data generator"
   ]
  },
  {
   "cell_type": "code",
   "execution_count": 4,
   "metadata": {},
   "outputs": [],
   "source": [
    "def preprocessingpretrainedimages(path):\n",
    "    # input : path \n",
    "    # output : pre trained images\n",
    "    image_data = ImageDataGenerator(zoom_range= 0.2, shear_range= 0.2, rescale= 1/225, horizontal_flip= True)  #data augmentation\n",
    "    image = image_data.flow_from_directory(directory= path, target_size= (224,244),batch_size= 32, class_mode= 'binary')\n",
    "\n",
    "    return image\n",
    "\n",
    "def preprocessingpretestedimages(path):\n",
    "    # input : path \n",
    "    # output : pre tested images\n",
    "    image_data = ImageDataGenerator(zoom_range= 0.2, shear_range= 0.2, rescale= 1/225, horizontal_flip= True) #data augmentation\n",
    "    image = image_data.flow_from_directory(directory= path, target_size= (224,244),batch_size= 32, class_mode= 'binary')\n",
    "\n",
    "    return image        "
   ]
  },
  {
   "cell_type": "code",
   "execution_count": 5,
   "metadata": {},
   "outputs": [
    {
     "name": "stdout",
     "output_type": "stream",
     "text": [
      "Found 1682 images belonging to 5 classes.\n",
      "Found 299 images belonging to 5 classes.\n"
     ]
    }
   ],
   "source": [
    "train_path = \"Train\"\n",
    "test_path = \"Test\"\n",
    "\n",
    "train_data = preprocessingpretrainedimages(train_path)\n",
    "test_data = preprocessingpretrainedimages(test_path)"
   ]
  },
  {
   "attachments": {},
   "cell_type": "markdown",
   "metadata": {},
   "source": [
    "Early Stopping & Model Checkpoints"
   ]
  },
  {
   "cell_type": "code",
   "execution_count": 6,
   "metadata": {},
   "outputs": [],
   "source": [
    "from keras.callbacks import ModelCheckpoint, EarlyStopping\n",
    "\n",
    "early_stopping = EarlyStopping(monitor=\"val_accuracy\", min_delta= 1, patience= 3, verbose= 1, mode= 'auto')\n",
    "model_checkpoints = ModelCheckpoint(monitor= \"val_accuracy\",filepath= \"./bestmodel.h5\",verbose= 1, save_best_only= True, mode = 'auto')\n",
    "\n",
    "\n",
    "cd = [early_stopping,model_checkpoints]"
   ]
  },
  {
   "attachments": {},
   "cell_type": "markdown",
   "metadata": {},
   "source": [
    "Model Training"
   ]
  },
  {
   "cell_type": "code",
   "execution_count": 7,
   "metadata": {},
   "outputs": [
    {
     "name": "stderr",
     "output_type": "stream",
     "text": [
      "C:\\Users\\hamod\\AppData\\Local\\Temp\\ipykernel_16572\\142967850.py:1: UserWarning: `Model.fit_generator` is deprecated and will be removed in a future version. Please use `Model.fit`, which supports generators.\n",
      "  model_history = model.fit_generator(generator= train_data, steps_per_epoch= 8 , epochs= 30, verbose= 1, validation_data= test_data, validation_steps= 16,callbacks= cd )\n"
     ]
    },
    {
     "ename": "",
     "evalue": "",
     "output_type": "error",
     "traceback": [
      "\u001b[1;31mCanceled future for execute_request message before replies were done"
     ]
    },
    {
     "ename": "",
     "evalue": "",
     "output_type": "error",
     "traceback": [
      "\u001b[1;31mThe Kernel crashed while executing code in the the current cell or a previous cell. Please review the code in the cell(s) to identify a possible cause of the failure. Click <a href='https://aka.ms/vscodeJupyterKernelCrash'>here</a> for more info. View Jupyter <a href='command:jupyter.viewOutput'>log</a> for further details."
     ]
    }
   ],
   "source": [
    "model_history = model.fit_generator(generator= train_data, steps_per_epoch= 8 , epochs= 30, verbose= 1, validation_data= test_data, validation_steps= 16,callbacks= cd )"
   ]
  }
 ],
 "metadata": {
  "kernelspec": {
   "display_name": "Python 3.10.8 64-bit (microsoft store)",
   "language": "python",
   "name": "python3"
  },
  "language_info": {
   "codemirror_mode": {
    "name": "ipython",
    "version": 3
   },
   "file_extension": ".py",
   "mimetype": "text/x-python",
   "name": "python",
   "nbconvert_exporter": "python",
   "pygments_lexer": "ipython3",
   "version": "3.10.9"
  },
  "orig_nbformat": 4,
  "vscode": {
   "interpreter": {
    "hash": "ae38f4dc8e962f92e933f829627eeda52c8b9ac21a54db5ece939922979b3a32"
   }
  }
 },
 "nbformat": 4,
 "nbformat_minor": 2
}
